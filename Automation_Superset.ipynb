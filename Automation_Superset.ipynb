{
  "nbformat": 4,
  "nbformat_minor": 0,
  "metadata": {
    "colab": {
      "provenance": [],
      "include_colab_link": true
    },
    "kernelspec": {
      "name": "python3",
      "display_name": "Python 3"
    },
    "language_info": {
      "name": "python"
    }
  },
  "cells": [
    {
      "cell_type": "markdown",
      "metadata": {
        "id": "view-in-github",
        "colab_type": "text"
      },
      "source": [
        "<a href=\"https://colab.research.google.com/github/tasyarach/Backup-Automation-Superset/blob/main/Automation_Superset.ipynb\" target=\"_parent\"><img src=\"https://colab.research.google.com/assets/colab-badge.svg\" alt=\"Open In Colab\"/></a>"
      ]
    },
    {
      "cell_type": "code",
      "source": [
        "from google.colab import drive\n",
        "drive.mount('/content/drive')"
      ],
      "metadata": {
        "id": "lWa0qIAmecCE",
        "colab": {
          "base_uri": "https://localhost:8080/"
        },
        "outputId": "bf4d6f16-581b-4259-9210-6fbc46221a73"
      },
      "execution_count": 1,
      "outputs": [
        {
          "output_type": "stream",
          "name": "stdout",
          "text": [
            "Mounted at /content/drive\n"
          ]
        }
      ]
    },
    {
      "cell_type": "code",
      "source": [
        "import pandas as pd\n",
        "\n",
        "summary_cases = pd.read_excel('/content/drive/Shareddrives/Python/Automation Superset/V.2.1 Manual Tools - Tier 2 AFI (Release).xlsx', sheet_name='Summary_Cases')\n",
        "summary_cases"
      ],
      "metadata": {
        "id": "ImvFwww-dayW"
      },
      "execution_count": null,
      "outputs": []
    },
    {
      "cell_type": "code",
      "source": [
        "aging = pd.read_excel('/content/drive/Shareddrives/Python/Automation Superset/V.2.1 Manual Tools - Tier 2 AFI (Release).xlsx', sheet_name='Aging_Cases')\n",
        "aging"
      ],
      "metadata": {
        "id": "m5B-AAgYR6RD"
      },
      "execution_count": null,
      "outputs": []
    },
    {
      "cell_type": "code",
      "source": [
        "first = pd.read_excel('/content/drive/Shareddrives/Python/Automation Superset/V.2.1 Manual Tools - Tier 2 AFI (Release).xlsx', sheet_name='First_Update')\n",
        "first"
      ],
      "metadata": {
        "id": "14ahWO4z8SNH"
      },
      "execution_count": null,
      "outputs": []
    },
    {
      "cell_type": "code",
      "source": [
        "lookup = pd.read_excel('/content/drive/Shareddrives/Python/Automation Superset/V.2.1 Manual Tools - Tier 2 AFI (Release).xlsx', sheet_name='Lookup_HC')\n",
        "lookup"
      ],
      "metadata": {
        "id": "6f5ohbQA-9DA"
      },
      "execution_count": null,
      "outputs": []
    },
    {
      "cell_type": "code",
      "source": [
        "import pandas as pd\n",
        "\n",
        "productivity = pd.read_excel('/content/drive/Shareddrives/Python/Automation Superset/V.2.1 Manual Tools - Tier 2 AFI (Release).xlsx', sheet_name='Productivity')\n",
        "productivity"
      ],
      "metadata": {
        "id": "9i5mu8dUUlRm"
      },
      "execution_count": null,
      "outputs": []
    },
    {
      "cell_type": "code",
      "source": [
        "simplesat = pd.read_excel('/content/drive/Shareddrives/Python/Automation Superset/V.2.1 Manual Tools - Tier 2 AFI (Release).xlsx', sheet_name='Lookup_Simplesat')\n",
        "simplesat"
      ],
      "metadata": {
        "id": "1NOwX_AOaIRR"
      },
      "execution_count": null,
      "outputs": []
    },
    {
      "cell_type": "markdown",
      "source": [
        "SUMMARY CASES TO AFI DATA JOB FOR DONE (Incoming_Cases)"
      ],
      "metadata": {
        "id": "4IX4qdh0d835"
      }
    },
    {
      "cell_type": "code",
      "source": [
        "from google.colab import drive\n",
        "drive.mount('/content/drive')\n",
        "\n",
        "\n",
        "from google.colab import drive\n",
        "from gspread_dataframe import set_with_dataframe\n",
        "from google.oauth2.service_account import Credentials\n",
        "from pydrive.auth import GoogleAuth\n",
        "from pydrive.drive import GoogleDrive\n",
        "from google.colab import auth\n",
        "import gspread\n",
        "from google.auth import default\n",
        "import pandas as pd\n",
        "import numpy as np\n",
        "from datetime import datetime, timedelta\n",
        "from google.oauth2 import service_account\n",
        "from googleapiclient.discovery import build\n",
        "\n",
        "\n",
        "# 1. Authorizing google colab\n",
        "auth.authenticate_user()\n",
        "\n",
        "# 2. credentials for google sheets\n",
        "creds, _ = default()\n",
        "\n",
        "# 3. authotizing the connection\n",
        "gc = gspread.authorize(creds)\n",
        "\n",
        "# Open the Google Sheet by its ID\n",
        "spreadsheet_id = '1pZnjWzvZgIXfUOFDYHvmZUGn7MyVDaCxvtiAvmR8H40'\n",
        "worksheet = 'Incoming_Cases'\n",
        "spreadsheet = gc.open_by_key(spreadsheet_id).worksheet(worksheet)\n",
        "data = spreadsheet.get_all_values()\n",
        "\n",
        "# Load data from Excel file into a pandas DataFrame, selecting only columns A to G\n",
        "excel_file_path = '/content/drive/Shared drives/Python/Automation Superset/V.2.1 Manual Tools - Tier 2 AFI (Release).xlsx'\n",
        "selected_columns = [0, 1, 2, 3, 4, 5, 6,7,8,9,10,11,12]  # Replace with the column indices you want to select\n",
        "incoming = pd.read_excel(excel_file_path, sheet_name='Summary_Cases', usecols=selected_columns)\n",
        "\n",
        "# Get the column names from the DataFrame\n",
        "header = list(incoming.columns)\n",
        "\n",
        "# Replace NaN values with blank\n",
        "incoming.fillna('', inplace=True)\n",
        "\n",
        "# Convert Date to String\n",
        "incoming['Ticket Creating Time'] = incoming['Ticket Creating Time'].dt.strftime('%Y-%m-%d')\n",
        "incoming['Update Time'] = incoming['Update Time'].dt.strftime('%Y-%m-%d')\n",
        "\n",
        "# Convert DataFrame to a list of lists and add the header at row 1\n",
        "values_incoming = [header] + incoming.values.tolist()\n",
        "\n",
        "range_name_summary = 'Incoming_Cases!A1:M' + str(len(values_incoming))\n",
        "range_name_clear_summary = 'Incoming_Cases!A1:M'\n",
        "\n",
        "service = build('sheets', 'v4', credentials=creds)\n",
        "# clear existing data in sheet\n",
        "clear_values_request_body = {}\n",
        "service.spreadsheets().values().clear(spreadsheetId=spreadsheet_id, range=range_name_clear_summary, body=clear_values_request_body).execute()\n",
        "\n",
        "# paste data into sheet\n",
        "values = values_incoming\n",
        "body = {\n",
        "    'values': values\n",
        "}\n",
        "result = service.spreadsheets().values().update(\n",
        "    spreadsheetId=spreadsheet_id, range=range_name_summary,\n",
        "    valueInputOption='USER_ENTERED', body=body).execute()\n",
        "print(f'{result.get(\"updatedCells\")} cells.')\n"
      ],
      "metadata": {
        "id": "7b_ohE3ya6Oc",
        "colab": {
          "base_uri": "https://localhost:8080/"
        },
        "outputId": "fe5a317a-6dc5-4d5a-fb54-b3fdc9414304"
      },
      "execution_count": 3,
      "outputs": [
        {
          "output_type": "stream",
          "name": "stdout",
          "text": [
            "Drive already mounted at /content/drive; to attempt to forcibly remount, call drive.mount(\"/content/drive\", force_remount=True).\n"
          ]
        },
        {
          "output_type": "stream",
          "name": "stderr",
          "text": [
            "WARNING:root:pydrive is deprecated and no longer maintained. We recommend that you migrate your projects to pydrive2, the maintained fork of pydrive\n"
          ]
        },
        {
          "output_type": "stream",
          "name": "stdout",
          "text": [
            "929448 cells.\n"
          ]
        }
      ]
    },
    {
      "cell_type": "markdown",
      "source": [
        "**SUMMARY CASES TO NEW REPORT TIER 2 (Incoming__Cases)**"
      ],
      "metadata": {
        "id": "sKNDOefUoyFm"
      }
    },
    {
      "cell_type": "code",
      "source": [
        "from google.colab import drive\n",
        "drive.mount('/content/drive')\n",
        "\n",
        "\n",
        "from google.colab import drive\n",
        "from gspread_dataframe import set_with_dataframe\n",
        "from google.oauth2.service_account import Credentials\n",
        "from pydrive.auth import GoogleAuth\n",
        "from pydrive.drive import GoogleDrive\n",
        "from google.colab import auth\n",
        "import gspread\n",
        "from google.auth import default\n",
        "import pandas as pd\n",
        "import numpy as np\n",
        "from datetime import datetime, timedelta\n",
        "from google.oauth2 import service_account\n",
        "from googleapiclient.discovery import build\n",
        "\n",
        "\n",
        "# 1. Authorizing google colab\n",
        "auth.authenticate_user()\n",
        "\n",
        "# 2. credentials for google sheets\n",
        "creds, _ = default()\n",
        "\n",
        "# 3. authotizing the connection\n",
        "gc = gspread.authorize(creds)\n",
        "\n",
        "# Open the Google Sheet by its ID\n",
        "spreadsheet_id = '17ykpS6sVZ2A_ydAznPo_-NprC1JmUZkYk8s1EgpF3DY'\n",
        "worksheet = 'Incoming_Cases'\n",
        "spreadsheet = gc.open_by_key(spreadsheet_id).worksheet(worksheet)\n",
        "data = spreadsheet.get_all_values()\n",
        "\n",
        "# Load data from Excel file into a pandas DataFrame, selecting only columns A to G\n",
        "excel_file_path = '/content/drive/Shared drives/Python/Automation Superset/V.2.1 Manual Tools - Tier 2 AFI (Release).xlsx'\n",
        "selected_columns = [0, 1, 2, 3, 4, 5, 6,7,8,9,10,11,12]  # Replace with the column indices you want to select\n",
        "incoming = pd.read_excel(excel_file_path, sheet_name='Summary_Cases', usecols=selected_columns)\n",
        "\n",
        "# Get the column names from the DataFrame\n",
        "header = list(incoming.columns)\n",
        "\n",
        "# Replace NaN values with blank\n",
        "incoming.fillna('', inplace=True)\n",
        "\n",
        "# Convert Date to String\n",
        "incoming['Ticket Creating Time'] = incoming['Ticket Creating Time'].dt.strftime('%Y-%m-%d')\n",
        "incoming['Update Time'] = incoming['Update Time'].dt.strftime('%Y-%m-%d')\n",
        "\n",
        "# Convert DataFrame to a list of lists and add the header at row 1\n",
        "values_incoming = [header] + incoming.values.tolist()\n",
        "\n",
        "range_name_summary = 'Incoming_Cases!A1:M' + str(len(values_incoming))\n",
        "range_name_clear_summary = 'Incoming_Cases!A1:M'\n",
        "\n",
        "service = build('sheets', 'v4', credentials=creds)\n",
        "# clear existing data in sheet\n",
        "clear_values_request_body = {}\n",
        "service.spreadsheets().values().clear(spreadsheetId=spreadsheet_id, range=range_name_clear_summary, body=clear_values_request_body).execute()\n",
        "\n",
        "# paste data into sheet\n",
        "values = values_incoming\n",
        "body = {\n",
        "    'values': values\n",
        "}\n",
        "result = service.spreadsheets().values().update(\n",
        "    spreadsheetId=spreadsheet_id, range=range_name_summary,\n",
        "    valueInputOption='USER_ENTERED', body=body).execute()\n",
        "print(f'{result.get(\"updatedCells\")} cells.')\n"
      ],
      "metadata": {
        "id": "It5aEhYeovfn",
        "colab": {
          "base_uri": "https://localhost:8080/"
        },
        "outputId": "28303d81-de1f-440c-c9a6-ac2ccadd87d0"
      },
      "execution_count": 4,
      "outputs": [
        {
          "output_type": "stream",
          "name": "stdout",
          "text": [
            "Drive already mounted at /content/drive; to attempt to forcibly remount, call drive.mount(\"/content/drive\", force_remount=True).\n",
            "929448 cells.\n"
          ]
        }
      ]
    },
    {
      "cell_type": "markdown",
      "source": [
        "SUMMARY CASES TO NEW REPORT TIER 1 (Tier_2)"
      ],
      "metadata": {
        "id": "weyWcAw5snuN"
      }
    },
    {
      "cell_type": "code",
      "source": [
        "from google.colab import drive\n",
        "drive.mount('/content/drive')\n",
        "\n",
        "\n",
        "from google.colab import drive\n",
        "from gspread_dataframe import set_with_dataframe\n",
        "from google.oauth2.service_account import Credentials\n",
        "from pydrive.auth import GoogleAuth\n",
        "from pydrive.drive import GoogleDrive\n",
        "from google.colab import auth\n",
        "import gspread\n",
        "from google.auth import default\n",
        "import pandas as pd\n",
        "import numpy as np\n",
        "from datetime import datetime, timedelta\n",
        "from google.oauth2 import service_account\n",
        "from googleapiclient.discovery import build\n",
        "\n",
        "\n",
        "# 1. Authorizing google colab\n",
        "auth.authenticate_user()\n",
        "\n",
        "# 2. credentials for google sheets\n",
        "creds, _ = default()\n",
        "\n",
        "# 3. authotizing the connection\n",
        "gc = gspread.authorize(creds)\n",
        "\n",
        "# Open the Google Sheet by its ID\n",
        "spreadsheet_id = '1xa7RO9Soi8K90NlYjsIka_iRmq5hS8EPUcYOHSjTaUI'\n",
        "worksheet = 'Tier_2'\n",
        "spreadsheet = gc.open_by_key(spreadsheet_id).worksheet(worksheet)\n",
        "data = spreadsheet.get_all_values()\n",
        "\n",
        "# Load data from Excel file into a pandas DataFrame, selecting only columns A to G\n",
        "excel_file_path = '/content/drive/Shared drives/Python/Automation Superset/V.2.1 Manual Tools - Tier 2 AFI (Release).xlsx'\n",
        "selected_columns = [0, 1, 2, 3, 4, 5, 6,7,8,9,10,11,12]  # Replace with the column indices you want to select\n",
        "incoming = pd.read_excel(excel_file_path, sheet_name='Summary_Cases', usecols=selected_columns)\n",
        "\n",
        "# Get the column names from the DataFrame\n",
        "header = list(incoming.columns)\n",
        "\n",
        "# Replace NaN values with blank\n",
        "incoming.fillna('', inplace=True)\n",
        "\n",
        "# Convert Date to String\n",
        "incoming['Ticket Creating Time'] = incoming['Ticket Creating Time'].dt.strftime('%Y-%m-%d')\n",
        "incoming['Update Time'] = incoming['Update Time'].dt.strftime('%Y-%m-%d')\n",
        "\n",
        "# Convert DataFrame to a list of lists and add the header at row 1\n",
        "values_incoming = [header] + incoming.values.tolist()\n",
        "\n",
        "range_name_summary = 'Tier_2!A1:M' + str(len(values_incoming))\n",
        "range_name_clear_summary = 'Tier_2!A1:M'\n",
        "\n",
        "service = build('sheets', 'v4', credentials=creds)\n",
        "# clear existing data in sheet\n",
        "clear_values_request_body = {}\n",
        "service.spreadsheets().values().clear(spreadsheetId=spreadsheet_id, range=range_name_clear_summary, body=clear_values_request_body).execute()\n",
        "\n",
        "# paste data into sheet\n",
        "values = values_incoming\n",
        "body = {\n",
        "    'values': values\n",
        "}\n",
        "result = service.spreadsheets().values().update(\n",
        "    spreadsheetId=spreadsheet_id, range=range_name_summary,\n",
        "    valueInputOption='USER_ENTERED', body=body).execute()\n",
        "print(f'{result.get(\"updatedCells\")} cells.')\n"
      ],
      "metadata": {
        "id": "m316z1t0rzaq",
        "colab": {
          "base_uri": "https://localhost:8080/"
        },
        "outputId": "5454a11c-3ea5-46b8-8afd-1d3d79cdef5e"
      },
      "execution_count": 5,
      "outputs": [
        {
          "output_type": "stream",
          "name": "stdout",
          "text": [
            "Drive already mounted at /content/drive; to attempt to forcibly remount, call drive.mount(\"/content/drive\", force_remount=True).\n",
            "929448 cells.\n"
          ]
        }
      ]
    },
    {
      "cell_type": "markdown",
      "source": [
        "SUMMARY CASES TO BOD (Tier_2)"
      ],
      "metadata": {
        "id": "sdH9Hwx2uC_e"
      }
    },
    {
      "cell_type": "code",
      "source": [
        "from google.colab import drive\n",
        "drive.mount('/content/drive')\n",
        "\n",
        "\n",
        "from google.colab import drive\n",
        "from gspread_dataframe import set_with_dataframe\n",
        "from google.oauth2.service_account import Credentials\n",
        "from pydrive.auth import GoogleAuth\n",
        "from pydrive.drive import GoogleDrive\n",
        "from google.colab import auth\n",
        "import gspread\n",
        "from google.auth import default\n",
        "import pandas as pd\n",
        "import numpy as np\n",
        "from datetime import datetime, timedelta\n",
        "from google.oauth2 import service_account\n",
        "from googleapiclient.discovery import build\n",
        "\n",
        "\n",
        "# 1. Authorizing google colab\n",
        "auth.authenticate_user()\n",
        "\n",
        "# 2. credentials for google sheets\n",
        "creds, _ = default()\n",
        "\n",
        "# 3. authotizing the connection\n",
        "gc = gspread.authorize(creds)\n",
        "\n",
        "# Open the Google Sheet by its ID\n",
        "spreadsheet_id = '13NiTkT046MC6Rm3ymJg_j0qfyOQ9Qhd3mXaUavUIbeI'\n",
        "worksheet = 'Tier_2'\n",
        "spreadsheet = gc.open_by_key(spreadsheet_id).worksheet(worksheet)\n",
        "data = spreadsheet.get_all_values()\n",
        "\n",
        "# Load data from Excel file into a pandas DataFrame, selecting only columns A to G\n",
        "excel_file_path = '/content/drive/Shared drives/Python/Automation Superset/V.2.1 Manual Tools - Tier 2 AFI (Release).xlsx'\n",
        "selected_columns = [0, 1, 2, 3, 4, 5, 6,7,8,9,10,11,12]  # Replace with the column indices you want to select\n",
        "incoming = pd.read_excel(excel_file_path, sheet_name='Summary_Cases', usecols=selected_columns)\n",
        "\n",
        "# Get the column names from the DataFrame\n",
        "header = list(incoming.columns)\n",
        "\n",
        "# Replace NaN values with blank\n",
        "incoming.fillna('', inplace=True)\n",
        "\n",
        "# Convert Date to String\n",
        "incoming['Ticket Creating Time'] = incoming['Ticket Creating Time'].dt.strftime('%Y-%m-%d')\n",
        "incoming['Update Time'] = incoming['Update Time'].dt.strftime('%Y-%m-%d')\n",
        "\n",
        "# Convert DataFrame to a list of lists and add the header at row 1\n",
        "values_incoming = [header] + incoming.values.tolist()\n",
        "\n",
        "range_name_summary = 'Tier_2!B1:N' + str(len(values_incoming))\n",
        "range_name_clear_summary = 'Tier_2!B1:N'\n",
        "\n",
        "service = build('sheets', 'v4', credentials=creds)\n",
        "# clear existing data in sheet\n",
        "clear_values_request_body = {}\n",
        "service.spreadsheets().values().clear(spreadsheetId=spreadsheet_id, range=range_name_clear_summary, body=clear_values_request_body).execute()\n",
        "\n",
        "# paste data into sheet\n",
        "values = values_incoming\n",
        "body = {\n",
        "    'values': values\n",
        "}\n",
        "result = service.spreadsheets().values().update(\n",
        "    spreadsheetId=spreadsheet_id, range=range_name_summary,\n",
        "    valueInputOption='USER_ENTERED', body=body).execute()\n",
        "print(f'{result.get(\"updatedCells\")} cells.')\n"
      ],
      "metadata": {
        "colab": {
          "base_uri": "https://localhost:8080/"
        },
        "id": "_-0o5k3XsvVF",
        "outputId": "7eb6b655-fac0-4f4e-a45e-8723fce70264"
      },
      "execution_count": 6,
      "outputs": [
        {
          "output_type": "stream",
          "name": "stdout",
          "text": [
            "Drive already mounted at /content/drive; to attempt to forcibly remount, call drive.mount(\"/content/drive\", force_remount=True).\n",
            "929448 cells.\n"
          ]
        }
      ]
    },
    {
      "cell_type": "markdown",
      "source": [
        "AGING CASE TO AFI DATA JOB FOR DONE (Aging_Cases)"
      ],
      "metadata": {
        "id": "3k0lgqDm68Jz"
      }
    },
    {
      "cell_type": "code",
      "source": [
        "from google.colab import drive\n",
        "drive.mount('/content/drive')\n",
        "\n",
        "from google.colab import drive\n",
        "from gspread_dataframe import set_with_dataframe\n",
        "from google.oauth2.service_account import Credentials\n",
        "from pydrive.auth import GoogleAuth\n",
        "from pydrive.drive import GoogleDrive\n",
        "from google.colab import auth\n",
        "import gspread\n",
        "from google.auth import default\n",
        "import pandas as pd\n",
        "import numpy as np\n",
        "from datetime import datetime, timedelta\n",
        "from google.oauth2 import service_account\n",
        "from googleapiclient.discovery import build\n",
        "\n",
        "# 1. Authorizing google colab\n",
        "auth.authenticate_user()\n",
        "\n",
        "# 2. credentials for google sheets\n",
        "creds, _ = default()\n",
        "\n",
        "# 3. authotizing the connection\n",
        "gc = gspread.authorize(creds)\n",
        "\n",
        "# Open the Google Sheet by its ID\n",
        "spreadsheet_id = '1pZnjWzvZgIXfUOFDYHvmZUGn7MyVDaCxvtiAvmR8H40'\n",
        "worksheet = 'Aging_Cases'\n",
        "spreadsheet = gc.open_by_key(spreadsheet_id).worksheet(worksheet)\n",
        "data = spreadsheet.get_all_values()\n",
        "\n",
        "# Load data from Excel file into a pandas DataFrame, selecting only columns A to G\n",
        "excel_file_path = '/content/drive/Shared drives/Python/Automation Superset/V.2.1 Manual Tools - Tier 2 AFI (Release).xlsx'\n",
        "selected_columns = [0, 1, 2, 3, 4, 5, 6, 7, 8, 9, 10, 11, 12, 13, 14, 15, 16, 17]  # Replace with the column indices you want to select\n",
        "aging = pd.read_excel(excel_file_path, sheet_name='Aging_Cases', usecols=selected_columns)\n",
        "aging = aging.replace({np.nan: '', 'NaT': ''})\n",
        "# Get the column names from the DataFrame\n",
        "header = list(aging.columns)\n",
        "\n",
        "\n",
        "\n",
        "# Convert Date to String\n",
        "aging['Ticket Creating Time'] = aging['Ticket Creating Time'].dt.strftime('%Y-%m-%d')\n",
        "aging['Update Time'] = aging['Update Time'].dt.strftime('%Y-%m-%d')\n",
        "aging['first_update_time'] = aging['first_update_time'].dt.strftime('%Y-%m-%d')\n",
        "\n",
        "# Replace NaN values with empty string\n",
        "aging = aging.replace({np.nan: '', pd.NaT: ''})\n",
        "\n",
        "# Convert DataFrame to a list of lists and add the header at row 1\n",
        "values_aging = [header] + aging.values.tolist()\n",
        "\n",
        "range_name_summary = 'Aging_Cases!A1:R' + str(len(values_aging))\n",
        "range_name_clear_summary = 'Aging_Cases!A1:R'\n",
        "\n",
        "service = build('sheets', 'v4', credentials=creds)\n",
        "# clear existing data in sheet\n",
        "clear_values_request_body = {}\n",
        "service.spreadsheets().values().clear(spreadsheetId=spreadsheet_id, range=range_name_clear_summary, body=clear_values_request_body).execute()\n",
        "\n",
        "# paste data into sheet\n",
        "values = values_aging\n",
        "body = {\n",
        "    'values': values\n",
        "}\n",
        "result = service.spreadsheets().values().update(\n",
        "    spreadsheetId=spreadsheet_id, range=range_name_summary,\n",
        "    valueInputOption='USER_ENTERED', body=body).execute()\n",
        "print(f'{result.get(\"updatedCells\")} cells.')\n"
      ],
      "metadata": {
        "colab": {
          "base_uri": "https://localhost:8080/"
        },
        "id": "Z1gVqpDK0a9K",
        "outputId": "47eb3173-af4a-4fb3-d7ba-5b4f539dbb8f"
      },
      "execution_count": 7,
      "outputs": [
        {
          "output_type": "stream",
          "name": "stdout",
          "text": [
            "Drive already mounted at /content/drive; to attempt to forcibly remount, call drive.mount(\"/content/drive\", force_remount=True).\n",
            "35424 cells.\n"
          ]
        }
      ]
    },
    {
      "cell_type": "markdown",
      "source": [
        "FIRST UPDATE TO NEW REPORT TIER 2 (First_Update)"
      ],
      "metadata": {
        "id": "Btw1LOkf9shF"
      }
    },
    {
      "cell_type": "code",
      "source": [
        "from google.colab import drive\n",
        "drive.mount('/content/drive')\n",
        "\n",
        "from google.colab import drive\n",
        "from gspread_dataframe import set_with_dataframe\n",
        "from google.oauth2.service_account import Credentials\n",
        "from pydrive.auth import GoogleAuth\n",
        "from pydrive.drive import GoogleDrive\n",
        "from google.colab import auth\n",
        "import gspread\n",
        "from google.auth import default\n",
        "import pandas as pd\n",
        "import numpy as np\n",
        "from datetime import datetime, timedelta\n",
        "from google.oauth2 import service_account\n",
        "from googleapiclient.discovery import build\n",
        "\n",
        "# 1. Authorizing google colab\n",
        "auth.authenticate_user()\n",
        "\n",
        "# 2. credentials for google sheets\n",
        "creds, _ = default()\n",
        "\n",
        "# 3. authotizing the connection\n",
        "gc = gspread.authorize(creds)\n",
        "\n",
        "# Open the Google Sheet by its ID\n",
        "spreadsheet_id = '17ykpS6sVZ2A_ydAznPo_-NprC1JmUZkYk8s1EgpF3DY'\n",
        "worksheet = 'First_Update'\n",
        "spreadsheet = gc.open_by_key(spreadsheet_id).worksheet(worksheet)\n",
        "data = spreadsheet.get_all_values()\n",
        "\n",
        "# Load data from Excel file into a pandas DataFrame, selecting only columns A to G\n",
        "excel_file_path = '/content/drive/Shared drives/Python/Automation Superset/V.2.1 Manual Tools - Tier 2 AFI (Release).xlsx'\n",
        "selected_columns = [0, 1, 2, 3, 4, 5, 6, 7, 8, 9]  # Replace with the column indices you want to select\n",
        "first = pd.read_excel(excel_file_path, sheet_name='First_Update', usecols=selected_columns)\n",
        "first = first.replace({np.nan: '', 'NaT': ''})\n",
        "# Get the column names from the DataFrame\n",
        "header = list(first.columns)\n",
        "\n",
        "\n",
        "\n",
        "# Convert Date to String\n",
        "first['Ticket Creating Time'] = first['Ticket Creating Time'].dt.strftime('%Y-%m-%d')\n",
        "first['first_update_time'] = first['first_update_time'].dt.strftime('%Y-%m-%d')\n",
        "\n",
        "# Replace NaN values with empty string\n",
        "first = first.replace({np.nan: '', pd.NaT: ''})\n",
        "\n",
        "# Convert DataFrame to a list of lists and add the header at row 1\n",
        "values_first = [header] + first.values.tolist()\n",
        "\n",
        "range_name_summary = 'first_update!A1:J' + str(len(values_first))\n",
        "range_name_clear_summary = 'first_update!A1:J'\n",
        "\n",
        "service = build('sheets', 'v4', credentials=creds)\n",
        "# clear existing data in sheet\n",
        "clear_values_request_body = {}\n",
        "service.spreadsheets().values().clear(spreadsheetId=spreadsheet_id, range=range_name_clear_summary, body=clear_values_request_body).execute()\n",
        "\n",
        "# paste data into sheet\n",
        "values = values_first\n",
        "body = {\n",
        "    'values': values\n",
        "}\n",
        "result = service.spreadsheets().values().update(\n",
        "    spreadsheetId=spreadsheet_id, range=range_name_summary,\n",
        "    valueInputOption='USER_ENTERED', body=body).execute()\n",
        "print(f'{result.get(\"updatedCells\")} cells.')\n"
      ],
      "metadata": {
        "colab": {
          "base_uri": "https://localhost:8080/"
        },
        "id": "gCvl-o_T8Oma",
        "outputId": "dbedff39-6a4b-44fb-e017-9f21bc5759fe"
      },
      "execution_count": 14,
      "outputs": [
        {
          "output_type": "stream",
          "name": "stdout",
          "text": [
            "Drive already mounted at /content/drive; to attempt to forcibly remount, call drive.mount(\"/content/drive\", force_remount=True).\n",
            "522850 cells.\n"
          ]
        }
      ]
    },
    {
      "cell_type": "markdown",
      "source": [
        "LOOKUP HC TO NEW REKAP HARD COMPLAINT HOTLINE (AFI_Tier2)"
      ],
      "metadata": {
        "id": "e6iOXfJrAEdl"
      }
    },
    {
      "cell_type": "code",
      "source": [
        "from google.colab import drive\n",
        "drive.mount('/content/drive')\n",
        "\n",
        "from google.colab import drive\n",
        "from gspread_dataframe import set_with_dataframe\n",
        "from google.oauth2.service_account import Credentials\n",
        "from pydrive.auth import GoogleAuth\n",
        "from pydrive.drive import GoogleDrive\n",
        "from google.colab import auth\n",
        "import gspread\n",
        "from google.auth import default\n",
        "import pandas as pd\n",
        "import numpy as np\n",
        "from datetime import datetime, timedelta\n",
        "from google.oauth2 import service_account\n",
        "from googleapiclient.discovery import build\n",
        "\n",
        "# 1. Authorizing google colab\n",
        "auth.authenticate_user()\n",
        "\n",
        "# 2. credentials for google sheets\n",
        "creds, _ = default()\n",
        "\n",
        "# 3. authotizing the connection\n",
        "gc = gspread.authorize(creds)\n",
        "\n",
        "# Open the Google Sheet by its ID\n",
        "spreadsheet_id = '1OPAhEqqXS1cG54k0Cvu_Mv7OlIFBAvBdjc3q6b_jtgQ'\n",
        "worksheet = 'AFI_Tier2'\n",
        "spreadsheet = gc.open_by_key(spreadsheet_id).worksheet(worksheet)\n",
        "data = spreadsheet.get_all_values()\n",
        "\n",
        "# Load data from Excel file into a pandas DataFrame, selecting only columns A to G\n",
        "excel_file_path = '/content/drive/Shared drives/Python/Automation Superset/V.2.1 Manual Tools - Tier 2 AFI (Release).xlsx'\n",
        "selected_columns = [0, 1, 2, 3, 4, 5, 6]  # Replace with the column indices you want to select\n",
        "lookup = pd.read_excel(excel_file_path, sheet_name='Lookup_HC', usecols=selected_columns)\n",
        "lookup = lookup.replace({np.nan: '', 'NaT': ''})\n",
        "# Get the column names from the DataFrame\n",
        "header = list(lookup.columns)\n",
        "\n",
        "\n",
        "\n",
        "# Convert Date to String\n",
        "lookup['Ticket Creating Time'] = lookup['Ticket Creating Time'].dt.strftime('%Y-%m-%d')\n",
        "lookup['Update Time'] = lookup['Update Time'].dt.strftime('%Y-%m-%d')\n",
        "lookup['first_update_time'] = lookup['first_update_time'].dt.strftime('%Y-%m-%d')\n",
        "\n",
        "# Replace NaN values with empty string\n",
        "lookup = lookup.replace({np.nan: '', pd.NaT: ''})\n",
        "\n",
        "# Convert DataFrame to a list of lists and add the header at row 1\n",
        "values_lookup = [header] + lookup.values.tolist()\n",
        "\n",
        "range_name_summary = 'AFI_Tier2!A1:G' + str(len(values_lookup))\n",
        "range_name_clear_summary = 'AFI_Tier2!A1:G'\n",
        "\n",
        "service = build('sheets', 'v4', credentials=creds)\n",
        "# clear existing data in sheet\n",
        "clear_values_request_body = {}\n",
        "service.spreadsheets().values().clear(spreadsheetId=spreadsheet_id, range=range_name_clear_summary, body=clear_values_request_body).execute()\n",
        "\n",
        "# paste data into sheet\n",
        "values = values_lookup\n",
        "body = {\n",
        "    'values': values\n",
        "}\n",
        "result = service.spreadsheets().values().update(\n",
        "    spreadsheetId=spreadsheet_id, range=range_name_summary,\n",
        "    valueInputOption='USER_ENTERED', body=body).execute()\n",
        "print(f'{result.get(\"updatedCells\")} cells.')\n"
      ],
      "metadata": {
        "id": "69uYyq35-Kr2",
        "colab": {
          "base_uri": "https://localhost:8080/"
        },
        "outputId": "6db31ad9-5c3f-4394-b48e-09ec076e5e49"
      },
      "execution_count": 9,
      "outputs": [
        {
          "output_type": "stream",
          "name": "stdout",
          "text": [
            "Drive already mounted at /content/drive; to attempt to forcibly remount, call drive.mount(\"/content/drive\", force_remount=True).\n",
            "308609 cells.\n"
          ]
        }
      ]
    },
    {
      "cell_type": "markdown",
      "source": [
        "LOOKUP HC TO NEW REKAP HARD COMPLAINT LIVECHAT (AFI_Tier2)"
      ],
      "metadata": {
        "id": "hsc3isBj-Cjx"
      }
    },
    {
      "cell_type": "code",
      "source": [
        "from google.colab import drive\n",
        "drive.mount('/content/drive')\n",
        "\n",
        "from google.colab import drive\n",
        "from gspread_dataframe import set_with_dataframe\n",
        "from google.oauth2.service_account import Credentials\n",
        "from pydrive.auth import GoogleAuth\n",
        "from pydrive.drive import GoogleDrive\n",
        "from google.colab import auth\n",
        "import gspread\n",
        "from google.auth import default\n",
        "import pandas as pd\n",
        "import numpy as np\n",
        "from datetime import datetime, timedelta\n",
        "from google.oauth2 import service_account\n",
        "from googleapiclient.discovery import build\n",
        "\n",
        "# 1. Authorizing google colab\n",
        "auth.authenticate_user()\n",
        "\n",
        "# 2. credentials for google sheets\n",
        "creds, _ = default()\n",
        "\n",
        "# 3. authotizing the connection\n",
        "gc = gspread.authorize(creds)\n",
        "\n",
        "# Open the Google Sheet by its ID\n",
        "spreadsheet_id = '1DvQ-W08RqfxDLkbPBRZSK3tpefIQeu8oDmB_WCeBd3I'\n",
        "worksheet = 'AFI_Tier2'\n",
        "spreadsheet = gc.open_by_key(spreadsheet_id).worksheet(worksheet)\n",
        "data = spreadsheet.get_all_values()\n",
        "\n",
        "# Load data from Excel file into a pandas DataFrame, selecting only columns A to G\n",
        "excel_file_path = '/content/drive/Shared drives/Python/Automation Superset/V.2.1 Manual Tools - Tier 2 AFI (Release).xlsx'\n",
        "selected_columns = [0, 1, 2, 3, 4, 5, 6]  # Replace with the column indices you want to select\n",
        "lookup = pd.read_excel(excel_file_path, sheet_name='Lookup_HC', usecols=selected_columns)\n",
        "lookup = lookup.replace({np.nan: '', 'NaT': ''})\n",
        "# Get the column names from the DataFrame\n",
        "header = list(lookup.columns)\n",
        "\n",
        "\n",
        "\n",
        "# Convert Date to String\n",
        "lookup['Ticket Creating Time'] = lookup['Ticket Creating Time'].dt.strftime('%Y-%m-%d')\n",
        "lookup['Update Time'] = lookup['Update Time'].dt.strftime('%Y-%m-%d')\n",
        "lookup['first_update_time'] = lookup['first_update_time'].dt.strftime('%Y-%m-%d')\n",
        "\n",
        "# Replace NaN values with empty string\n",
        "lookup = lookup.replace({np.nan: '', pd.NaT: ''})\n",
        "\n",
        "# Convert DataFrame to a list of lists and add the header at row 1\n",
        "values_lookup = [header] + lookup.values.tolist()\n",
        "\n",
        "range_name_summary = 'AFI_Tier2!A1:G' + str(len(values_lookup))\n",
        "range_name_clear_summary = 'AFI_Tier2!A1:G'\n",
        "\n",
        "service = build('sheets', 'v4', credentials=creds)\n",
        "# clear existing data in sheet\n",
        "clear_values_request_body = {}\n",
        "service.spreadsheets().values().clear(spreadsheetId=spreadsheet_id, range=range_name_clear_summary, body=clear_values_request_body).execute()\n",
        "\n",
        "# paste data into sheet\n",
        "values = values_lookup\n",
        "body = {\n",
        "    'values': values\n",
        "}\n",
        "result = service.spreadsheets().values().update(\n",
        "    spreadsheetId=spreadsheet_id, range=range_name_summary,\n",
        "    valueInputOption='USER_ENTERED', body=body).execute()\n",
        "print(f'{result.get(\"updatedCells\")} cells.')\n"
      ],
      "metadata": {
        "id": "F3gbDNEUvoH-",
        "colab": {
          "base_uri": "https://localhost:8080/",
          "height": 373
        },
        "outputId": "7a47c6bd-93b7-4ffe-bc44-0010ddb38960"
      },
      "execution_count": 21,
      "outputs": [
        {
          "output_type": "stream",
          "name": "stdout",
          "text": [
            "Drive already mounted at /content/drive; to attempt to forcibly remount, call drive.mount(\"/content/drive\", force_remount=True).\n"
          ]
        },
        {
          "output_type": "error",
          "ename": "KeyboardInterrupt",
          "evalue": "",
          "traceback": [
            "\u001b[0;31m---------------------------------------------------------------------------\u001b[0m",
            "\u001b[0;31mKeyboardInterrupt\u001b[0m                         Traceback (most recent call last)",
            "\u001b[0;32m<ipython-input-21-df3f4a05f7d1>\u001b[0m in \u001b[0;36m<cell line: 31>\u001b[0;34m()\u001b[0m\n\u001b[1;32m     29\u001b[0m \u001b[0mworksheet\u001b[0m \u001b[0;34m=\u001b[0m \u001b[0;34m'AFI_Tier2'\u001b[0m\u001b[0;34m\u001b[0m\u001b[0;34m\u001b[0m\u001b[0m\n\u001b[1;32m     30\u001b[0m \u001b[0mspreadsheet\u001b[0m \u001b[0;34m=\u001b[0m \u001b[0mgc\u001b[0m\u001b[0;34m.\u001b[0m\u001b[0mopen_by_key\u001b[0m\u001b[0;34m(\u001b[0m\u001b[0mspreadsheet_id\u001b[0m\u001b[0;34m)\u001b[0m\u001b[0;34m.\u001b[0m\u001b[0mworksheet\u001b[0m\u001b[0;34m(\u001b[0m\u001b[0mworksheet\u001b[0m\u001b[0;34m)\u001b[0m\u001b[0;34m\u001b[0m\u001b[0;34m\u001b[0m\u001b[0m\n\u001b[0;32m---> 31\u001b[0;31m \u001b[0mdata\u001b[0m \u001b[0;34m=\u001b[0m \u001b[0mspreadsheet\u001b[0m\u001b[0;34m.\u001b[0m\u001b[0mget_all_values\u001b[0m\u001b[0;34m(\u001b[0m\u001b[0;34m)\u001b[0m\u001b[0;34m\u001b[0m\u001b[0;34m\u001b[0m\u001b[0m\n\u001b[0m\u001b[1;32m     32\u001b[0m \u001b[0;34m\u001b[0m\u001b[0m\n\u001b[1;32m     33\u001b[0m \u001b[0;31m# Load data from Excel file into a pandas DataFrame, selecting only columns A to G\u001b[0m\u001b[0;34m\u001b[0m\u001b[0;34m\u001b[0m\u001b[0m\n",
            "\u001b[0;32m/usr/local/lib/python3.10/dist-packages/gspread/models.py\u001b[0m in \u001b[0;36mget_all_values\u001b[0;34m(self, value_render_option)\u001b[0m\n\u001b[1;32m    731\u001b[0m         \u001b[0mrange_name\u001b[0m \u001b[0;34m=\u001b[0m \u001b[0mabsolute_range_name\u001b[0m\u001b[0;34m(\u001b[0m\u001b[0mself\u001b[0m\u001b[0;34m.\u001b[0m\u001b[0mtitle\u001b[0m\u001b[0;34m)\u001b[0m\u001b[0;34m\u001b[0m\u001b[0;34m\u001b[0m\u001b[0m\n\u001b[1;32m    732\u001b[0m \u001b[0;34m\u001b[0m\u001b[0m\n\u001b[0;32m--> 733\u001b[0;31m         data = self.spreadsheet.values_get(\n\u001b[0m\u001b[1;32m    734\u001b[0m             \u001b[0mrange_name\u001b[0m\u001b[0;34m,\u001b[0m\u001b[0;34m\u001b[0m\u001b[0;34m\u001b[0m\u001b[0m\n\u001b[1;32m    735\u001b[0m             \u001b[0mparams\u001b[0m\u001b[0;34m=\u001b[0m\u001b[0;34m{\u001b[0m\u001b[0;34m'valueRenderOption'\u001b[0m\u001b[0;34m:\u001b[0m \u001b[0mvalue_render_option\u001b[0m\u001b[0;34m}\u001b[0m\u001b[0;34m\u001b[0m\u001b[0;34m\u001b[0m\u001b[0m\n",
            "\u001b[0;32m/usr/local/lib/python3.10/dist-packages/gspread/models.py\u001b[0m in \u001b[0;36mvalues_get\u001b[0;34m(self, range, params)\u001b[0m\n\u001b[1;32m    190\u001b[0m         \"\"\"\n\u001b[1;32m    191\u001b[0m         \u001b[0murl\u001b[0m \u001b[0;34m=\u001b[0m \u001b[0mSPREADSHEET_VALUES_URL\u001b[0m \u001b[0;34m%\u001b[0m \u001b[0;34m(\u001b[0m\u001b[0mself\u001b[0m\u001b[0;34m.\u001b[0m\u001b[0mid\u001b[0m\u001b[0;34m,\u001b[0m \u001b[0mquote\u001b[0m\u001b[0;34m(\u001b[0m\u001b[0mrange\u001b[0m\u001b[0;34m)\u001b[0m\u001b[0;34m)\u001b[0m\u001b[0;34m\u001b[0m\u001b[0;34m\u001b[0m\u001b[0m\n\u001b[0;32m--> 192\u001b[0;31m         \u001b[0mr\u001b[0m \u001b[0;34m=\u001b[0m \u001b[0mself\u001b[0m\u001b[0;34m.\u001b[0m\u001b[0mclient\u001b[0m\u001b[0;34m.\u001b[0m\u001b[0mrequest\u001b[0m\u001b[0;34m(\u001b[0m\u001b[0;34m'get'\u001b[0m\u001b[0;34m,\u001b[0m \u001b[0murl\u001b[0m\u001b[0;34m,\u001b[0m \u001b[0mparams\u001b[0m\u001b[0;34m=\u001b[0m\u001b[0mparams\u001b[0m\u001b[0;34m)\u001b[0m\u001b[0;34m\u001b[0m\u001b[0;34m\u001b[0m\u001b[0m\n\u001b[0m\u001b[1;32m    193\u001b[0m         \u001b[0;32mreturn\u001b[0m \u001b[0mr\u001b[0m\u001b[0;34m.\u001b[0m\u001b[0mjson\u001b[0m\u001b[0;34m(\u001b[0m\u001b[0;34m)\u001b[0m\u001b[0;34m\u001b[0m\u001b[0;34m\u001b[0m\u001b[0m\n\u001b[1;32m    194\u001b[0m \u001b[0;34m\u001b[0m\u001b[0m\n",
            "\u001b[0;32m/usr/local/lib/python3.10/dist-packages/gspread/client.py\u001b[0m in \u001b[0;36mrequest\u001b[0;34m(self, method, endpoint, params, data, json, files, headers)\u001b[0m\n\u001b[1;32m     59\u001b[0m             headers=None):\n\u001b[1;32m     60\u001b[0m \u001b[0;34m\u001b[0m\u001b[0m\n\u001b[0;32m---> 61\u001b[0;31m         response = getattr(self.session, method)(\n\u001b[0m\u001b[1;32m     62\u001b[0m             \u001b[0mendpoint\u001b[0m\u001b[0;34m,\u001b[0m\u001b[0;34m\u001b[0m\u001b[0;34m\u001b[0m\u001b[0m\n\u001b[1;32m     63\u001b[0m             \u001b[0mjson\u001b[0m\u001b[0;34m=\u001b[0m\u001b[0mjson\u001b[0m\u001b[0;34m,\u001b[0m\u001b[0;34m\u001b[0m\u001b[0;34m\u001b[0m\u001b[0m\n",
            "\u001b[0;32m/usr/local/lib/python3.10/dist-packages/requests/sessions.py\u001b[0m in \u001b[0;36mget\u001b[0;34m(self, url, **kwargs)\u001b[0m\n\u001b[1;32m    600\u001b[0m \u001b[0;34m\u001b[0m\u001b[0m\n\u001b[1;32m    601\u001b[0m         \u001b[0mkwargs\u001b[0m\u001b[0;34m.\u001b[0m\u001b[0msetdefault\u001b[0m\u001b[0;34m(\u001b[0m\u001b[0;34m\"allow_redirects\"\u001b[0m\u001b[0;34m,\u001b[0m \u001b[0;32mTrue\u001b[0m\u001b[0;34m)\u001b[0m\u001b[0;34m\u001b[0m\u001b[0;34m\u001b[0m\u001b[0m\n\u001b[0;32m--> 602\u001b[0;31m         \u001b[0;32mreturn\u001b[0m \u001b[0mself\u001b[0m\u001b[0;34m.\u001b[0m\u001b[0mrequest\u001b[0m\u001b[0;34m(\u001b[0m\u001b[0;34m\"GET\"\u001b[0m\u001b[0;34m,\u001b[0m \u001b[0murl\u001b[0m\u001b[0;34m,\u001b[0m \u001b[0;34m**\u001b[0m\u001b[0mkwargs\u001b[0m\u001b[0;34m)\u001b[0m\u001b[0;34m\u001b[0m\u001b[0;34m\u001b[0m\u001b[0m\n\u001b[0m\u001b[1;32m    603\u001b[0m \u001b[0;34m\u001b[0m\u001b[0m\n\u001b[1;32m    604\u001b[0m     \u001b[0;32mdef\u001b[0m \u001b[0moptions\u001b[0m\u001b[0;34m(\u001b[0m\u001b[0mself\u001b[0m\u001b[0;34m,\u001b[0m \u001b[0murl\u001b[0m\u001b[0;34m,\u001b[0m \u001b[0;34m**\u001b[0m\u001b[0mkwargs\u001b[0m\u001b[0;34m)\u001b[0m\u001b[0;34m:\u001b[0m\u001b[0;34m\u001b[0m\u001b[0;34m\u001b[0m\u001b[0m\n",
            "\u001b[0;32m/usr/local/lib/python3.10/dist-packages/google/auth/transport/requests.py\u001b[0m in \u001b[0;36mrequest\u001b[0;34m(self, method, url, data, headers, max_allowed_time, timeout, **kwargs)\u001b[0m\n\u001b[1;32m    539\u001b[0m \u001b[0;34m\u001b[0m\u001b[0m\n\u001b[1;32m    540\u001b[0m         \u001b[0;32mwith\u001b[0m \u001b[0mTimeoutGuard\u001b[0m\u001b[0;34m(\u001b[0m\u001b[0mremaining_time\u001b[0m\u001b[0;34m)\u001b[0m \u001b[0;32mas\u001b[0m \u001b[0mguard\u001b[0m\u001b[0;34m:\u001b[0m\u001b[0;34m\u001b[0m\u001b[0;34m\u001b[0m\u001b[0m\n\u001b[0;32m--> 541\u001b[0;31m             response = super(AuthorizedSession, self).request(\n\u001b[0m\u001b[1;32m    542\u001b[0m                 \u001b[0mmethod\u001b[0m\u001b[0;34m,\u001b[0m\u001b[0;34m\u001b[0m\u001b[0;34m\u001b[0m\u001b[0m\n\u001b[1;32m    543\u001b[0m                 \u001b[0murl\u001b[0m\u001b[0;34m,\u001b[0m\u001b[0;34m\u001b[0m\u001b[0;34m\u001b[0m\u001b[0m\n",
            "\u001b[0;32m/usr/local/lib/python3.10/dist-packages/requests/sessions.py\u001b[0m in \u001b[0;36mrequest\u001b[0;34m(self, method, url, params, data, headers, cookies, files, auth, timeout, allow_redirects, proxies, hooks, stream, verify, cert, json)\u001b[0m\n\u001b[1;32m    587\u001b[0m         }\n\u001b[1;32m    588\u001b[0m         \u001b[0msend_kwargs\u001b[0m\u001b[0;34m.\u001b[0m\u001b[0mupdate\u001b[0m\u001b[0;34m(\u001b[0m\u001b[0msettings\u001b[0m\u001b[0;34m)\u001b[0m\u001b[0;34m\u001b[0m\u001b[0;34m\u001b[0m\u001b[0m\n\u001b[0;32m--> 589\u001b[0;31m         \u001b[0mresp\u001b[0m \u001b[0;34m=\u001b[0m \u001b[0mself\u001b[0m\u001b[0;34m.\u001b[0m\u001b[0msend\u001b[0m\u001b[0;34m(\u001b[0m\u001b[0mprep\u001b[0m\u001b[0;34m,\u001b[0m \u001b[0;34m**\u001b[0m\u001b[0msend_kwargs\u001b[0m\u001b[0;34m)\u001b[0m\u001b[0;34m\u001b[0m\u001b[0;34m\u001b[0m\u001b[0m\n\u001b[0m\u001b[1;32m    590\u001b[0m \u001b[0;34m\u001b[0m\u001b[0m\n\u001b[1;32m    591\u001b[0m         \u001b[0;32mreturn\u001b[0m \u001b[0mresp\u001b[0m\u001b[0;34m\u001b[0m\u001b[0;34m\u001b[0m\u001b[0m\n",
            "\u001b[0;32m/usr/local/lib/python3.10/dist-packages/requests/sessions.py\u001b[0m in \u001b[0;36msend\u001b[0;34m(self, request, **kwargs)\u001b[0m\n\u001b[1;32m    701\u001b[0m \u001b[0;34m\u001b[0m\u001b[0m\n\u001b[1;32m    702\u001b[0m         \u001b[0;31m# Send the request\u001b[0m\u001b[0;34m\u001b[0m\u001b[0;34m\u001b[0m\u001b[0m\n\u001b[0;32m--> 703\u001b[0;31m         \u001b[0mr\u001b[0m \u001b[0;34m=\u001b[0m \u001b[0madapter\u001b[0m\u001b[0;34m.\u001b[0m\u001b[0msend\u001b[0m\u001b[0;34m(\u001b[0m\u001b[0mrequest\u001b[0m\u001b[0;34m,\u001b[0m \u001b[0;34m**\u001b[0m\u001b[0mkwargs\u001b[0m\u001b[0;34m)\u001b[0m\u001b[0;34m\u001b[0m\u001b[0;34m\u001b[0m\u001b[0m\n\u001b[0m\u001b[1;32m    704\u001b[0m \u001b[0;34m\u001b[0m\u001b[0m\n\u001b[1;32m    705\u001b[0m         \u001b[0;31m# Total elapsed time of the request (approximately)\u001b[0m\u001b[0;34m\u001b[0m\u001b[0;34m\u001b[0m\u001b[0m\n",
            "\u001b[0;32m/usr/local/lib/python3.10/dist-packages/requests/adapters.py\u001b[0m in \u001b[0;36msend\u001b[0;34m(self, request, stream, timeout, verify, cert, proxies)\u001b[0m\n\u001b[1;32m    484\u001b[0m \u001b[0;34m\u001b[0m\u001b[0m\n\u001b[1;32m    485\u001b[0m         \u001b[0;32mtry\u001b[0m\u001b[0;34m:\u001b[0m\u001b[0;34m\u001b[0m\u001b[0;34m\u001b[0m\u001b[0m\n\u001b[0;32m--> 486\u001b[0;31m             resp = conn.urlopen(\n\u001b[0m\u001b[1;32m    487\u001b[0m                 \u001b[0mmethod\u001b[0m\u001b[0;34m=\u001b[0m\u001b[0mrequest\u001b[0m\u001b[0;34m.\u001b[0m\u001b[0mmethod\u001b[0m\u001b[0;34m,\u001b[0m\u001b[0;34m\u001b[0m\u001b[0;34m\u001b[0m\u001b[0m\n\u001b[1;32m    488\u001b[0m                 \u001b[0murl\u001b[0m\u001b[0;34m=\u001b[0m\u001b[0murl\u001b[0m\u001b[0;34m,\u001b[0m\u001b[0;34m\u001b[0m\u001b[0;34m\u001b[0m\u001b[0m\n",
            "\u001b[0;32m/usr/local/lib/python3.10/dist-packages/urllib3/connectionpool.py\u001b[0m in \u001b[0;36murlopen\u001b[0;34m(self, method, url, body, headers, retries, redirect, assert_same_host, timeout, pool_timeout, release_conn, chunked, body_pos, preload_content, decode_content, **response_kw)\u001b[0m\n\u001b[1;32m    789\u001b[0m \u001b[0;34m\u001b[0m\u001b[0m\n\u001b[1;32m    790\u001b[0m             \u001b[0;31m# Make the request on the HTTPConnection object\u001b[0m\u001b[0;34m\u001b[0m\u001b[0;34m\u001b[0m\u001b[0m\n\u001b[0;32m--> 791\u001b[0;31m             response = self._make_request(\n\u001b[0m\u001b[1;32m    792\u001b[0m                 \u001b[0mconn\u001b[0m\u001b[0;34m,\u001b[0m\u001b[0;34m\u001b[0m\u001b[0;34m\u001b[0m\u001b[0m\n\u001b[1;32m    793\u001b[0m                 \u001b[0mmethod\u001b[0m\u001b[0;34m,\u001b[0m\u001b[0;34m\u001b[0m\u001b[0;34m\u001b[0m\u001b[0m\n",
            "\u001b[0;32m/usr/local/lib/python3.10/dist-packages/urllib3/connectionpool.py\u001b[0m in \u001b[0;36m_make_request\u001b[0;34m(self, conn, method, url, body, headers, retries, timeout, chunked, response_conn, preload_content, decode_content, enforce_content_length)\u001b[0m\n\u001b[1;32m    535\u001b[0m         \u001b[0;31m# Receive the response from the server\u001b[0m\u001b[0;34m\u001b[0m\u001b[0;34m\u001b[0m\u001b[0m\n\u001b[1;32m    536\u001b[0m         \u001b[0;32mtry\u001b[0m\u001b[0;34m:\u001b[0m\u001b[0;34m\u001b[0m\u001b[0;34m\u001b[0m\u001b[0m\n\u001b[0;32m--> 537\u001b[0;31m             \u001b[0mresponse\u001b[0m \u001b[0;34m=\u001b[0m \u001b[0mconn\u001b[0m\u001b[0;34m.\u001b[0m\u001b[0mgetresponse\u001b[0m\u001b[0;34m(\u001b[0m\u001b[0;34m)\u001b[0m\u001b[0;34m\u001b[0m\u001b[0;34m\u001b[0m\u001b[0m\n\u001b[0m\u001b[1;32m    538\u001b[0m         \u001b[0;32mexcept\u001b[0m \u001b[0;34m(\u001b[0m\u001b[0mBaseSSLError\u001b[0m\u001b[0;34m,\u001b[0m \u001b[0mOSError\u001b[0m\u001b[0;34m)\u001b[0m \u001b[0;32mas\u001b[0m \u001b[0me\u001b[0m\u001b[0;34m:\u001b[0m\u001b[0;34m\u001b[0m\u001b[0;34m\u001b[0m\u001b[0m\n\u001b[1;32m    539\u001b[0m             \u001b[0mself\u001b[0m\u001b[0;34m.\u001b[0m\u001b[0m_raise_timeout\u001b[0m\u001b[0;34m(\u001b[0m\u001b[0merr\u001b[0m\u001b[0;34m=\u001b[0m\u001b[0me\u001b[0m\u001b[0;34m,\u001b[0m \u001b[0murl\u001b[0m\u001b[0;34m=\u001b[0m\u001b[0murl\u001b[0m\u001b[0;34m,\u001b[0m \u001b[0mtimeout_value\u001b[0m\u001b[0;34m=\u001b[0m\u001b[0mread_timeout\u001b[0m\u001b[0;34m)\u001b[0m\u001b[0;34m\u001b[0m\u001b[0;34m\u001b[0m\u001b[0m\n",
            "\u001b[0;32m/usr/local/lib/python3.10/dist-packages/urllib3/connection.py\u001b[0m in \u001b[0;36mgetresponse\u001b[0;34m(self)\u001b[0m\n\u001b[1;32m    459\u001b[0m \u001b[0;34m\u001b[0m\u001b[0m\n\u001b[1;32m    460\u001b[0m         \u001b[0;31m# Get the response from http.client.HTTPConnection\u001b[0m\u001b[0;34m\u001b[0m\u001b[0;34m\u001b[0m\u001b[0m\n\u001b[0;32m--> 461\u001b[0;31m         \u001b[0mhttplib_response\u001b[0m \u001b[0;34m=\u001b[0m \u001b[0msuper\u001b[0m\u001b[0;34m(\u001b[0m\u001b[0;34m)\u001b[0m\u001b[0;34m.\u001b[0m\u001b[0mgetresponse\u001b[0m\u001b[0;34m(\u001b[0m\u001b[0;34m)\u001b[0m\u001b[0;34m\u001b[0m\u001b[0;34m\u001b[0m\u001b[0m\n\u001b[0m\u001b[1;32m    462\u001b[0m \u001b[0;34m\u001b[0m\u001b[0m\n\u001b[1;32m    463\u001b[0m         \u001b[0;32mtry\u001b[0m\u001b[0;34m:\u001b[0m\u001b[0;34m\u001b[0m\u001b[0;34m\u001b[0m\u001b[0m\n",
            "\u001b[0;32m/usr/lib/python3.10/http/client.py\u001b[0m in \u001b[0;36mgetresponse\u001b[0;34m(self)\u001b[0m\n\u001b[1;32m   1373\u001b[0m         \u001b[0;32mtry\u001b[0m\u001b[0;34m:\u001b[0m\u001b[0;34m\u001b[0m\u001b[0;34m\u001b[0m\u001b[0m\n\u001b[1;32m   1374\u001b[0m             \u001b[0;32mtry\u001b[0m\u001b[0;34m:\u001b[0m\u001b[0;34m\u001b[0m\u001b[0;34m\u001b[0m\u001b[0m\n\u001b[0;32m-> 1375\u001b[0;31m                 \u001b[0mresponse\u001b[0m\u001b[0;34m.\u001b[0m\u001b[0mbegin\u001b[0m\u001b[0;34m(\u001b[0m\u001b[0;34m)\u001b[0m\u001b[0;34m\u001b[0m\u001b[0;34m\u001b[0m\u001b[0m\n\u001b[0m\u001b[1;32m   1376\u001b[0m             \u001b[0;32mexcept\u001b[0m \u001b[0mConnectionError\u001b[0m\u001b[0;34m:\u001b[0m\u001b[0;34m\u001b[0m\u001b[0;34m\u001b[0m\u001b[0m\n\u001b[1;32m   1377\u001b[0m                 \u001b[0mself\u001b[0m\u001b[0;34m.\u001b[0m\u001b[0mclose\u001b[0m\u001b[0;34m(\u001b[0m\u001b[0;34m)\u001b[0m\u001b[0;34m\u001b[0m\u001b[0;34m\u001b[0m\u001b[0m\n",
            "\u001b[0;32m/usr/lib/python3.10/http/client.py\u001b[0m in \u001b[0;36mbegin\u001b[0;34m(self)\u001b[0m\n\u001b[1;32m    316\u001b[0m         \u001b[0;31m# read until we get a non-100 response\u001b[0m\u001b[0;34m\u001b[0m\u001b[0;34m\u001b[0m\u001b[0m\n\u001b[1;32m    317\u001b[0m         \u001b[0;32mwhile\u001b[0m \u001b[0;32mTrue\u001b[0m\u001b[0;34m:\u001b[0m\u001b[0;34m\u001b[0m\u001b[0;34m\u001b[0m\u001b[0m\n\u001b[0;32m--> 318\u001b[0;31m             \u001b[0mversion\u001b[0m\u001b[0;34m,\u001b[0m \u001b[0mstatus\u001b[0m\u001b[0;34m,\u001b[0m \u001b[0mreason\u001b[0m \u001b[0;34m=\u001b[0m \u001b[0mself\u001b[0m\u001b[0;34m.\u001b[0m\u001b[0m_read_status\u001b[0m\u001b[0;34m(\u001b[0m\u001b[0;34m)\u001b[0m\u001b[0;34m\u001b[0m\u001b[0;34m\u001b[0m\u001b[0m\n\u001b[0m\u001b[1;32m    319\u001b[0m             \u001b[0;32mif\u001b[0m \u001b[0mstatus\u001b[0m \u001b[0;34m!=\u001b[0m \u001b[0mCONTINUE\u001b[0m\u001b[0;34m:\u001b[0m\u001b[0;34m\u001b[0m\u001b[0;34m\u001b[0m\u001b[0m\n\u001b[1;32m    320\u001b[0m                 \u001b[0;32mbreak\u001b[0m\u001b[0;34m\u001b[0m\u001b[0;34m\u001b[0m\u001b[0m\n",
            "\u001b[0;32m/usr/lib/python3.10/http/client.py\u001b[0m in \u001b[0;36m_read_status\u001b[0;34m(self)\u001b[0m\n\u001b[1;32m    277\u001b[0m \u001b[0;34m\u001b[0m\u001b[0m\n\u001b[1;32m    278\u001b[0m     \u001b[0;32mdef\u001b[0m \u001b[0m_read_status\u001b[0m\u001b[0;34m(\u001b[0m\u001b[0mself\u001b[0m\u001b[0;34m)\u001b[0m\u001b[0;34m:\u001b[0m\u001b[0;34m\u001b[0m\u001b[0;34m\u001b[0m\u001b[0m\n\u001b[0;32m--> 279\u001b[0;31m         \u001b[0mline\u001b[0m \u001b[0;34m=\u001b[0m \u001b[0mstr\u001b[0m\u001b[0;34m(\u001b[0m\u001b[0mself\u001b[0m\u001b[0;34m.\u001b[0m\u001b[0mfp\u001b[0m\u001b[0;34m.\u001b[0m\u001b[0mreadline\u001b[0m\u001b[0;34m(\u001b[0m\u001b[0m_MAXLINE\u001b[0m \u001b[0;34m+\u001b[0m \u001b[0;36m1\u001b[0m\u001b[0;34m)\u001b[0m\u001b[0;34m,\u001b[0m \u001b[0;34m\"iso-8859-1\"\u001b[0m\u001b[0;34m)\u001b[0m\u001b[0;34m\u001b[0m\u001b[0;34m\u001b[0m\u001b[0m\n\u001b[0m\u001b[1;32m    280\u001b[0m         \u001b[0;32mif\u001b[0m \u001b[0mlen\u001b[0m\u001b[0;34m(\u001b[0m\u001b[0mline\u001b[0m\u001b[0;34m)\u001b[0m \u001b[0;34m>\u001b[0m \u001b[0m_MAXLINE\u001b[0m\u001b[0;34m:\u001b[0m\u001b[0;34m\u001b[0m\u001b[0;34m\u001b[0m\u001b[0m\n\u001b[1;32m    281\u001b[0m             \u001b[0;32mraise\u001b[0m \u001b[0mLineTooLong\u001b[0m\u001b[0;34m(\u001b[0m\u001b[0;34m\"status line\"\u001b[0m\u001b[0;34m)\u001b[0m\u001b[0;34m\u001b[0m\u001b[0;34m\u001b[0m\u001b[0m\n",
            "\u001b[0;32m/usr/lib/python3.10/socket.py\u001b[0m in \u001b[0;36mreadinto\u001b[0;34m(self, b)\u001b[0m\n\u001b[1;32m    703\u001b[0m         \u001b[0;32mwhile\u001b[0m \u001b[0;32mTrue\u001b[0m\u001b[0;34m:\u001b[0m\u001b[0;34m\u001b[0m\u001b[0;34m\u001b[0m\u001b[0m\n\u001b[1;32m    704\u001b[0m             \u001b[0;32mtry\u001b[0m\u001b[0;34m:\u001b[0m\u001b[0;34m\u001b[0m\u001b[0;34m\u001b[0m\u001b[0m\n\u001b[0;32m--> 705\u001b[0;31m                 \u001b[0;32mreturn\u001b[0m \u001b[0mself\u001b[0m\u001b[0;34m.\u001b[0m\u001b[0m_sock\u001b[0m\u001b[0;34m.\u001b[0m\u001b[0mrecv_into\u001b[0m\u001b[0;34m(\u001b[0m\u001b[0mb\u001b[0m\u001b[0;34m)\u001b[0m\u001b[0;34m\u001b[0m\u001b[0;34m\u001b[0m\u001b[0m\n\u001b[0m\u001b[1;32m    706\u001b[0m             \u001b[0;32mexcept\u001b[0m \u001b[0mtimeout\u001b[0m\u001b[0;34m:\u001b[0m\u001b[0;34m\u001b[0m\u001b[0;34m\u001b[0m\u001b[0m\n\u001b[1;32m    707\u001b[0m                 \u001b[0mself\u001b[0m\u001b[0;34m.\u001b[0m\u001b[0m_timeout_occurred\u001b[0m \u001b[0;34m=\u001b[0m \u001b[0;32mTrue\u001b[0m\u001b[0;34m\u001b[0m\u001b[0;34m\u001b[0m\u001b[0m\n",
            "\u001b[0;32m/usr/lib/python3.10/ssl.py\u001b[0m in \u001b[0;36mrecv_into\u001b[0;34m(self, buffer, nbytes, flags)\u001b[0m\n\u001b[1;32m   1301\u001b[0m                   \u001b[0;34m\"non-zero flags not allowed in calls to recv_into() on %s\"\u001b[0m \u001b[0;34m%\u001b[0m\u001b[0;34m\u001b[0m\u001b[0;34m\u001b[0m\u001b[0m\n\u001b[1;32m   1302\u001b[0m                   self.__class__)\n\u001b[0;32m-> 1303\u001b[0;31m             \u001b[0;32mreturn\u001b[0m \u001b[0mself\u001b[0m\u001b[0;34m.\u001b[0m\u001b[0mread\u001b[0m\u001b[0;34m(\u001b[0m\u001b[0mnbytes\u001b[0m\u001b[0;34m,\u001b[0m \u001b[0mbuffer\u001b[0m\u001b[0;34m)\u001b[0m\u001b[0;34m\u001b[0m\u001b[0;34m\u001b[0m\u001b[0m\n\u001b[0m\u001b[1;32m   1304\u001b[0m         \u001b[0;32melse\u001b[0m\u001b[0;34m:\u001b[0m\u001b[0;34m\u001b[0m\u001b[0;34m\u001b[0m\u001b[0m\n\u001b[1;32m   1305\u001b[0m             \u001b[0;32mreturn\u001b[0m \u001b[0msuper\u001b[0m\u001b[0;34m(\u001b[0m\u001b[0;34m)\u001b[0m\u001b[0;34m.\u001b[0m\u001b[0mrecv_into\u001b[0m\u001b[0;34m(\u001b[0m\u001b[0mbuffer\u001b[0m\u001b[0;34m,\u001b[0m \u001b[0mnbytes\u001b[0m\u001b[0;34m,\u001b[0m \u001b[0mflags\u001b[0m\u001b[0;34m)\u001b[0m\u001b[0;34m\u001b[0m\u001b[0;34m\u001b[0m\u001b[0m\n",
            "\u001b[0;32m/usr/lib/python3.10/ssl.py\u001b[0m in \u001b[0;36mread\u001b[0;34m(self, len, buffer)\u001b[0m\n\u001b[1;32m   1157\u001b[0m         \u001b[0;32mtry\u001b[0m\u001b[0;34m:\u001b[0m\u001b[0;34m\u001b[0m\u001b[0;34m\u001b[0m\u001b[0m\n\u001b[1;32m   1158\u001b[0m             \u001b[0;32mif\u001b[0m \u001b[0mbuffer\u001b[0m \u001b[0;32mis\u001b[0m \u001b[0;32mnot\u001b[0m \u001b[0;32mNone\u001b[0m\u001b[0;34m:\u001b[0m\u001b[0;34m\u001b[0m\u001b[0;34m\u001b[0m\u001b[0m\n\u001b[0;32m-> 1159\u001b[0;31m                 \u001b[0;32mreturn\u001b[0m \u001b[0mself\u001b[0m\u001b[0;34m.\u001b[0m\u001b[0m_sslobj\u001b[0m\u001b[0;34m.\u001b[0m\u001b[0mread\u001b[0m\u001b[0;34m(\u001b[0m\u001b[0mlen\u001b[0m\u001b[0;34m,\u001b[0m \u001b[0mbuffer\u001b[0m\u001b[0;34m)\u001b[0m\u001b[0;34m\u001b[0m\u001b[0;34m\u001b[0m\u001b[0m\n\u001b[0m\u001b[1;32m   1160\u001b[0m             \u001b[0;32melse\u001b[0m\u001b[0;34m:\u001b[0m\u001b[0;34m\u001b[0m\u001b[0;34m\u001b[0m\u001b[0m\n\u001b[1;32m   1161\u001b[0m                 \u001b[0;32mreturn\u001b[0m \u001b[0mself\u001b[0m\u001b[0;34m.\u001b[0m\u001b[0m_sslobj\u001b[0m\u001b[0;34m.\u001b[0m\u001b[0mread\u001b[0m\u001b[0;34m(\u001b[0m\u001b[0mlen\u001b[0m\u001b[0;34m)\u001b[0m\u001b[0;34m\u001b[0m\u001b[0;34m\u001b[0m\u001b[0m\n",
            "\u001b[0;31mKeyboardInterrupt\u001b[0m: "
          ]
        }
      ]
    },
    {
      "cell_type": "markdown",
      "source": [
        "**ADDING DATA KPI CS Tier 2 AFI**"
      ],
      "metadata": {
        "id": "jRbTETcokDal"
      }
    },
    {
      "cell_type": "code",
      "source": [
        "from google.colab import drive\n",
        "drive.mount('/content/drive')\n",
        "\n",
        "from gspread_dataframe import set_with_dataframe\n",
        "from google.oauth2.service_account import Credentials\n",
        "from pydrive.auth import GoogleAuth\n",
        "from pydrive.drive import GoogleDrive\n",
        "from google.colab import auth\n",
        "import gspread\n",
        "from google.auth import default\n",
        "import pandas as pd\n",
        "import numpy as np\n",
        "from datetime import datetime, timedelta\n",
        "from google.oauth2 import service_account\n",
        "from googleapiclient.discovery import build\n",
        "\n",
        "# 1. Authorizing google colab\n",
        "auth.authenticate_user()\n",
        "\n",
        "# 2. credentials for google sheets\n",
        "creds, _ = default()\n",
        "\n",
        "# 3. authotizing the connection\n",
        "gc = gspread.authorize(creds)\n",
        "\n",
        "# Open the Google Sheet by its ID\n",
        "spreadsheet_id = '1ereNxVOB4Dw1NYaEcBff2x6yOfDLm5fgdL8J5-bSXC4'\n",
        "worksheet = 'Closed_Cases'\n",
        "spreadsheet = gc.open_by_key(spreadsheet_id).worksheet(worksheet)\n",
        "\n",
        "# Load data from Excel file into a pandas DataFrame, selecting only columns A to G\n",
        "excel_file_path = '/content/drive/Shared drives/Python/Automation Superset/V.2.1 Manual Tools - Tier 2 AFI (Release).xlsx'\n",
        "selected_columns = [0, 1, 2, 3, 4, 5, 6, 7, 8, 9]  # Replace with the column indices you want to select\n",
        "productivity = pd.read_excel(excel_file_path, sheet_name='Productivity', usecols=selected_columns)\n",
        "\n",
        "# Replace NaN values with blank\n",
        "productivity.fillna('', inplace=True)\n",
        "\n",
        "# Filter data based on 'Update Time' column between Jan 1, 2024 and Feb 3, 2024\n",
        "start_date = datetime(2024, 2, 28)\n",
        "end_date = datetime(2024, 2, 28)\n",
        "filtered_productivity = productivity[(productivity['Update Time'] >= start_date) & (productivity['Update Time'] <= end_date)]\n",
        "\n",
        "# Convert Date to String\n",
        "filtered_productivity['Update Time'] = filtered_productivity['Update Time'].dt.strftime('%Y-%m-%d')\n",
        "# filtered_incoming['Update Time'] = filtered_incoming['Update Time'].dt.strftime('%Y-%m-%d')\n",
        "\n",
        "# Convert DataFrame to a list of lists\n",
        "values_productivity = filtered_productivity.values.tolist()\n",
        "\n",
        "# Define range for updating in the Google Sheet\n",
        "next_row = len(spreadsheet.get_all_values()) + 1\n",
        "range_name = f'Closed_Cases!A{next_row}'\n",
        "\n",
        "# Update the Google Sheet with the filtered data\n",
        "set_with_dataframe(spreadsheet, filtered_productivity, include_index=False, include_column_header=False, row=next_row, resize=False)\n",
        "\n",
        "print(\"Data has been added successfully.\")\n"
      ],
      "metadata": {
        "id": "t09qFwN9u_9l",
        "colab": {
          "base_uri": "https://localhost:8080/"
        },
        "outputId": "abae461f-de5d-4ec5-cd55-afe708ebfe54"
      },
      "execution_count": 11,
      "outputs": [
        {
          "output_type": "stream",
          "name": "stdout",
          "text": [
            "Drive already mounted at /content/drive; to attempt to forcibly remount, call drive.mount(\"/content/drive\", force_remount=True).\n"
          ]
        },
        {
          "output_type": "stream",
          "name": "stderr",
          "text": [
            "<ipython-input-11-8bc331d70fb8>:45: SettingWithCopyWarning: \n",
            "A value is trying to be set on a copy of a slice from a DataFrame.\n",
            "Try using .loc[row_indexer,col_indexer] = value instead\n",
            "\n",
            "See the caveats in the documentation: https://pandas.pydata.org/pandas-docs/stable/user_guide/indexing.html#returning-a-view-versus-a-copy\n",
            "  filtered_productivity['Update Time'] = filtered_productivity['Update Time'].dt.strftime('%Y-%m-%d')\n"
          ]
        },
        {
          "output_type": "stream",
          "name": "stdout",
          "text": [
            "Data has been added successfully.\n"
          ]
        }
      ]
    },
    {
      "cell_type": "markdown",
      "source": [
        "**ADDING DATA KPI CS Tier 2 Jogja**"
      ],
      "metadata": {
        "id": "PeM0OiN-Y_LX"
      }
    },
    {
      "cell_type": "code",
      "source": [
        "from google.colab import drive\n",
        "drive.mount('/content/drive')\n",
        "\n",
        "from gspread_dataframe import set_with_dataframe\n",
        "from google.oauth2.service_account import Credentials\n",
        "from pydrive.auth import GoogleAuth\n",
        "from pydrive.drive import GoogleDrive\n",
        "from google.colab import auth\n",
        "import gspread\n",
        "from google.auth import default\n",
        "import pandas as pd\n",
        "import numpy as np\n",
        "from datetime import datetime, timedelta\n",
        "from google.oauth2 import service_account\n",
        "from googleapiclient.discovery import build\n",
        "\n",
        "# 1. Authorizing google colab\n",
        "auth.authenticate_user()\n",
        "\n",
        "# 2. credentials for google sheets\n",
        "creds, _ = default()\n",
        "\n",
        "# 3. authotizing the connection\n",
        "gc = gspread.authorize(creds)\n",
        "\n",
        "# Open the Google Sheet by its ID\n",
        "spreadsheet_id = '1Kit4-7rGR6hrOMwUABDNOsmdSu9lhJcRoN1RcqldclQ'\n",
        "worksheet = 'Tier2_AFI'\n",
        "spreadsheet = gc.open_by_key(spreadsheet_id).worksheet(worksheet)\n",
        "\n",
        "# Load data from Excel file into a pandas DataFrame, selecting only columns A to G\n",
        "excel_file_path = '/content/drive/Shared drives/Python/Automation Superset/V.2.1 Manual Tools - Tier 2 AFI (Release).xlsx'\n",
        "selected_columns = [0, 1, 2, 3, 4, 5, 6, 7, 8, 9]  # Replace with the column indices you want to select\n",
        "productivity = pd.read_excel(excel_file_path, sheet_name='Productivity', usecols=selected_columns)\n",
        "\n",
        "# Replace NaN values with blank\n",
        "productivity.fillna('', inplace=True)\n",
        "\n",
        "# Filter data based on 'Update Time' column between Jan 1, 2024 and Feb 3, 2024\n",
        "start_date = datetime(2024, 2, 28)\n",
        "end_date = datetime(2024, 2, 28)\n",
        "filtered_productivity = productivity[(productivity['Update Time'] >= start_date) & (productivity['Update Time'] <= end_date)]\n",
        "\n",
        "# Convert Date to String\n",
        "filtered_productivity['Update Time'] = filtered_productivity['Update Time'].dt.strftime('%Y-%m-%d')\n",
        "# filtered_incoming['Update Time'] = filtered_incoming['Update Time'].dt.strftime('%Y-%m-%d')\n",
        "\n",
        "# Convert DataFrame to a list of lists\n",
        "values_productivity = filtered_productivity.values.tolist()\n",
        "\n",
        "# Define range for updating in the Google Sheet\n",
        "next_row = len(spreadsheet.get_all_values()) + 1\n",
        "range_name = f'Tier2_AFI!A{next_row}'\n",
        "\n",
        "# Update the Google Sheet with the filtered data\n",
        "set_with_dataframe(spreadsheet, filtered_productivity, include_index=False, include_column_header=False, row=next_row, resize=False)\n",
        "\n",
        "print(\"Data has been added successfully.\")\n"
      ],
      "metadata": {
        "colab": {
          "base_uri": "https://localhost:8080/"
        },
        "id": "ljJQAl_KZJzt",
        "outputId": "f1ed8e74-3e25-43f0-f8ff-24d0ae9a45d4"
      },
      "execution_count": 12,
      "outputs": [
        {
          "output_type": "stream",
          "name": "stdout",
          "text": [
            "Drive already mounted at /content/drive; to attempt to forcibly remount, call drive.mount(\"/content/drive\", force_remount=True).\n"
          ]
        },
        {
          "output_type": "stream",
          "name": "stderr",
          "text": [
            "<ipython-input-12-e6f675bec8fa>:45: SettingWithCopyWarning: \n",
            "A value is trying to be set on a copy of a slice from a DataFrame.\n",
            "Try using .loc[row_indexer,col_indexer] = value instead\n",
            "\n",
            "See the caveats in the documentation: https://pandas.pydata.org/pandas-docs/stable/user_guide/indexing.html#returning-a-view-versus-a-copy\n",
            "  filtered_productivity['Update Time'] = filtered_productivity['Update Time'].dt.strftime('%Y-%m-%d')\n"
          ]
        },
        {
          "output_type": "stream",
          "name": "stdout",
          "text": [
            "Data has been added successfully.\n"
          ]
        }
      ]
    },
    {
      "cell_type": "markdown",
      "source": [
        "**ADDING MASTER DATA**"
      ],
      "metadata": {
        "id": "KVl2K5J6Z12Z"
      }
    },
    {
      "cell_type": "code",
      "source": [
        "from google.colab import drive\n",
        "drive.mount('/content/drive')\n",
        "\n",
        "from gspread_dataframe import set_with_dataframe\n",
        "from google.oauth2.service_account import Credentials\n",
        "from pydrive.auth import GoogleAuth\n",
        "from pydrive.drive import GoogleDrive\n",
        "from google.colab import auth\n",
        "import gspread\n",
        "from google.auth import default\n",
        "import pandas as pd\n",
        "import numpy as np\n",
        "from datetime import datetime, timedelta\n",
        "from google.oauth2 import service_account\n",
        "from googleapiclient.discovery import build\n",
        "\n",
        "# 1. Authorizing google colab\n",
        "auth.authenticate_user()\n",
        "\n",
        "# 2. credentials for google sheets\n",
        "creds, _ = default()\n",
        "\n",
        "# 3. authotizing the connection\n",
        "gc = gspread.authorize(creds)\n",
        "\n",
        "# Open the Google Sheet by its ID\n",
        "spreadsheet_id = '1Cx7Pkl-fJSeYL_ajtZ77eORXL-j5sleUFSMLKng02Lc'\n",
        "worksheet = 'Closed_Cases'\n",
        "spreadsheet = gc.open_by_key(spreadsheet_id).worksheet(worksheet)\n",
        "\n",
        "# Load data from Excel file into a pandas DataFrame, selecting only columns A to G\n",
        "excel_file_path = '/content/drive/Shared drives/Python/Automation Superset/V.2.1 Manual Tools - Tier 2 AFI (Release).xlsx'\n",
        "selected_columns = [0, 1, 2, 3, 4, 5, 6, 7]  # Replace with the column indices you want to select\n",
        "simplesat = pd.read_excel(excel_file_path, sheet_name='Lookup_Simplesat', usecols=selected_columns)\n",
        "\n",
        "# Replace NaN values with blank\n",
        "simplesat.fillna('', inplace=True)\n",
        "\n",
        "# Filter data based on 'Update Time' column between Jan 1, 2024 and Feb 3, 2024\n",
        "start_date = datetime(2024, 2, 28)\n",
        "end_date = datetime(2024, 2, 28)\n",
        "filtered_simplesat = simplesat[(simplesat['Update Time'] >= start_date) & (simplesat['Update Time'] <= end_date)]\n",
        "\n",
        "# Convert Date to String\n",
        "filtered_simplesat['Update Time'] = filtered_simplesat['Update Time'].dt.strftime('%Y-%m-%d')\n",
        "filtered_simplesat['Ticket Creating Time'] = filtered_simplesat['Ticket Creating Time'].dt.strftime('%Y-%m-%d')\n",
        "\n",
        "# Convert DataFrame to a list of lists\n",
        "values_simplesat = filtered_simplesat.values.tolist()\n",
        "\n",
        "# Define range for updating in the Google Sheet\n",
        "next_row = len(spreadsheet.get_all_values()) + 1\n",
        "range_name = f'Closed_Cases!A{next_row}'\n",
        "\n",
        "# Update the Google Sheet with the filtered data\n",
        "set_with_dataframe(spreadsheet, filtered_simplesat, include_index=False, include_column_header=False, row=next_row, resize=False)\n",
        "\n",
        "print(\"Data has been added successfully.\")\n"
      ],
      "metadata": {
        "colab": {
          "base_uri": "https://localhost:8080/"
        },
        "id": "IS-zz0auZ7oS",
        "outputId": "a1b3d2b9-15bd-4026-819d-5e89b57d5003"
      },
      "execution_count": 13,
      "outputs": [
        {
          "output_type": "stream",
          "name": "stdout",
          "text": [
            "Drive already mounted at /content/drive; to attempt to forcibly remount, call drive.mount(\"/content/drive\", force_remount=True).\n"
          ]
        },
        {
          "output_type": "stream",
          "name": "stderr",
          "text": [
            "<ipython-input-13-de1cd8cd4478>:45: SettingWithCopyWarning: \n",
            "A value is trying to be set on a copy of a slice from a DataFrame.\n",
            "Try using .loc[row_indexer,col_indexer] = value instead\n",
            "\n",
            "See the caveats in the documentation: https://pandas.pydata.org/pandas-docs/stable/user_guide/indexing.html#returning-a-view-versus-a-copy\n",
            "  filtered_simplesat['Update Time'] = filtered_simplesat['Update Time'].dt.strftime('%Y-%m-%d')\n",
            "<ipython-input-13-de1cd8cd4478>:46: SettingWithCopyWarning: \n",
            "A value is trying to be set on a copy of a slice from a DataFrame.\n",
            "Try using .loc[row_indexer,col_indexer] = value instead\n",
            "\n",
            "See the caveats in the documentation: https://pandas.pydata.org/pandas-docs/stable/user_guide/indexing.html#returning-a-view-versus-a-copy\n",
            "  filtered_simplesat['Ticket Creating Time'] = filtered_simplesat['Ticket Creating Time'].dt.strftime('%Y-%m-%d')\n"
          ]
        },
        {
          "output_type": "stream",
          "name": "stdout",
          "text": [
            "Data has been added successfully.\n"
          ]
        }
      ]
    }
  ]
}